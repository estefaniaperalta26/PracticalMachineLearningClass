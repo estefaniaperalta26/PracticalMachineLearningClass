{
 "cells": [
  {
   "cell_type": "markdown",
   "metadata": {},
   "source": [
    "# Exercise 01.2\n",
    "\n",
    "Using the given dataset. Estimate a linear regression between Employed and GNP.\n",
    "\n",
    "$$Employed = b_0 + b_1 * GNP $$\n",
    "\n",
    "---\n",
    "Usando la base de datos del empleo y el GNP, estimar una regresion lineal del empleo versus el GNP."
   ]
  },
  {
   "cell_type": "code",
   "execution_count": 3,
   "metadata": {
    "collapsed": false
   },
   "outputs": [],
   "source": [
    "%matplotlib inline\n",
    "import numpy as np\n",
    "import matplotlib.pyplot as plt\n"
   ]
  },
  {
   "cell_type": "code",
   "execution_count": 4,
   "metadata": {
    "collapsed": false
   },
   "outputs": [
    {
     "data": {
      "text/plain": [
       "(16, 3)"
      ]
     },
     "execution_count": 4,
     "metadata": {},
     "output_type": "execute_result"
    }
   ],
   "source": [
    "# Import data\n",
    "raw_data = \"\"\"\n",
    "Year,Employed,GNP\n",
    "1947,60.323,234.289\n",
    "1948,61.122,259.426\n",
    "1949,60.171,258.054\n",
    "1950,61.187,284.599\n",
    "1951,63.221,328.975\n",
    "1952,63.639,346.999\n",
    "1953,64.989,365.385\n",
    "1954,63.761,363.112\n",
    "1955,66.019,397.469\n",
    "1956,67.857,419.18\n",
    "1957,68.169,442.769\n",
    "1958,66.513,444.546\n",
    "1959,68.655,482.704\n",
    "1960,69.564,502.601\n",
    "1961,69.331,518.173\n",
    "1962,70.551,554.894\"\"\"\n",
    "\n",
    "data = []\n",
    "for line in raw_data.splitlines()[2:]:\n",
    "    words = line.split(',')\n",
    "    data.append(words)\n",
    "data = np.array(data, dtype=np.float)\n",
    "n_obs = data.shape[0]\n",
    "data.shape\n"
   ]
  },
  {
   "cell_type": "code",
   "execution_count": 13,
   "metadata": {
    "collapsed": false,
    "scrolled": false
   },
   "outputs": [
    {
     "data": {
      "text/plain": [
       "<matplotlib.text.Text at 0xca82030c50>"
      ]
     },
     "execution_count": 13,
     "metadata": {},
     "output_type": "execute_result"
    },
    {
     "data": {
      "image/png": "[encoded data removed]",
      "text/plain": [
       "<matplotlib.figure.Figure at 0xca83df19b0>"
      ]
     },
     "metadata": {},
     "output_type": "display_data"
    }
   ],
   "source": [
    "plt.plot(data[:, 2], data[:, 1], 'bo')\n",
    "plt.xlabel(\"GNP\")\n",
    "plt.ylabel(\"Employed\")"
   ]
  },
  {
   "cell_type": "code",
   "execution_count": 12,
   "metadata": {
    "collapsed": false
   },
   "outputs": [],
   "source": [
    "import scipy as sp\n",
    "params = sp.polyfit(data[:,2],data[:,1],1)"
   ]
  },
  {
   "cell_type": "code",
   "execution_count": 13,
   "metadata": {
    "collapsed": false
   },
   "outputs": [
    {
     "data": {
      "text/plain": [
       "array([  3.47522943e-02,   5.18435898e+01])"
      ]
     },
     "execution_count": 13,
     "metadata": {},
     "output_type": "execute_result"
    }
   ],
   "source": [
    "params"
   ]
  },
  {
   "cell_type": "markdown",
   "metadata": {},
   "source": [
    "$$ beta = (x^tx)^{-1}x^ty$$"
   ]
  },
  {
   "cell_type": "code",
   "execution_count": 14,
   "metadata": {
    "collapsed": false
   },
   "outputs": [],
   "source": [
    "x=data[:,2]\n",
    "y=data[:,1]"
   ]
  },
  {
   "cell_type": "code",
   "execution_count": 16,
   "metadata": {
    "collapsed": false
   },
   "outputs": [
    {
     "data": {
      "text/plain": [
       "array([[   1.   ,  234.289],\n",
       "       [   1.   ,  259.426],\n",
       "       [   1.   ,  258.054],\n",
       "       [   1.   ,  284.599],\n",
       "       [   1.   ,  328.975],\n",
       "       [   1.   ,  346.999],\n",
       "       [   1.   ,  365.385],\n",
       "       [   1.   ,  363.112],\n",
       "       [   1.   ,  397.469],\n",
       "       [   1.   ,  419.18 ],\n",
       "       [   1.   ,  442.769],\n",
       "       [   1.   ,  444.546],\n",
       "       [   1.   ,  482.704],\n",
       "       [   1.   ,  502.601],\n",
       "       [   1.   ,  518.173],\n",
       "       [   1.   ,  554.894]])"
      ]
     },
     "execution_count": 16,
     "metadata": {},
     "output_type": "execute_result"
    }
   ],
   "source": [
    "X= np.c_[np.ones(16), x]\n",
    "X"
   ]
  },
  {
   "cell_type": "code",
   "execution_count": 17,
   "metadata": {
    "collapsed": false
   },
   "outputs": [],
   "source": [
    "XT=X.T"
   ]
  },
  {
   "cell_type": "code",
   "execution_count": 18,
   "metadata": {
    "collapsed": true
   },
   "outputs": [],
   "source": [
    "XTX=np.dot(XT,X)"
   ]
  },
  {
   "cell_type": "code",
   "execution_count": 19,
   "metadata": {
    "collapsed": true
   },
   "outputs": [],
   "source": [
    "XTX_inv=np.linalg.inv(XTX)"
   ]
  },
  {
   "cell_type": "code",
   "execution_count": 20,
   "metadata": {
    "collapsed": true
   },
   "outputs": [],
   "source": [
    "XTY=np.dot(XT,y)"
   ]
  },
  {
   "cell_type": "code",
   "execution_count": 21,
   "metadata": {
    "collapsed": true
   },
   "outputs": [],
   "source": [
    "beta=np.dot(XTX_inv,XTY)"
   ]
  },
  {
   "cell_type": "code",
   "execution_count": 22,
   "metadata": {
    "collapsed": false
   },
   "outputs": [
    {
     "data": {
      "text/plain": [
       "array([  5.18435898e+01,   3.47522943e-02])"
      ]
     },
     "execution_count": 22,
     "metadata": {},
     "output_type": "execute_result"
    }
   ],
   "source": [
    "beta\n"
   ]
  }
 ],
 "metadata": {
  "kernelspec": {
   "display_name": "Python 3",
   "language": "python",
   "name": "python3"
  },
  "language_info": {
   "codemirror_mode": {
    "name": "ipython",
    "version": 3
   },
   "file_extension": ".py",
   "mimetype": "text/x-python",
   "name": "python",
   "nbconvert_exporter": "python",
   "pygments_lexer": "ipython3",
   "version": "3.5.1"
  }
 },
 "nbformat": 4,
 "nbformat_minor": 0
}
